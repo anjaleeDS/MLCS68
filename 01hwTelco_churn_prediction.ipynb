{
  "nbformat": 4,
  "nbformat_minor": 0,
  "metadata": {
    "colab": {
      "name": "01hwTelco_churn_prediction.ipynb",
      "provenance": [],
      "collapsed_sections": [],
      "include_colab_link": true
    },
    "kernelspec": {
      "name": "python3",
      "display_name": "Python 3"
    }
  },
  "cells": [
    {
      "cell_type": "markdown",
      "metadata": {
        "id": "view-in-github",
        "colab_type": "text"
      },
      "source": [
        "<a href=\"https://colab.research.google.com/github/anjaleeDS/MLCS68/blob/master/01hwTelco_churn_prediction.ipynb\" target=\"_parent\"><img src=\"https://colab.research.google.com/assets/colab-badge.svg\" alt=\"Open In Colab\"/></a>"
      ]
    },
    {
      "cell_type": "code",
      "metadata": {
        "id": "gx5By4-jhVKh",
        "colab_type": "code",
        "colab": {
          "base_uri": "https://localhost:8080/",
          "height": 72
        },
        "outputId": "3f12dacd-3c6d-4b76-ec7d-8b901e32007a"
      },
      "source": [
        "import pandas as pd\n",
        "import numpy as np\n",
        "import seaborn as sns\n",
        "import matplotlib.pyplot as plt\n",
        "from datetime import datetime\n",
        "from sklearn.preprocessing import StandardScaler, LabelEncoder\n",
        "from sklearn.model_selection import train_test_split\n",
        "from sklearn.linear_model import LogisticRegression\n",
        "from sklearn.metrics import roc_curve\n",
        "from sklearn.metrics import roc_auc_score"
      ],
      "execution_count": 1,
      "outputs": [
        {
          "output_type": "stream",
          "text": [
            "/usr/local/lib/python3.6/dist-packages/statsmodels/tools/_testing.py:19: FutureWarning: pandas.util.testing is deprecated. Use the functions in the public API at pandas.testing instead.\n",
            "  import pandas.util.testing as tm\n"
          ],
          "name": "stderr"
        }
      ]
    },
    {
      "cell_type": "code",
      "metadata": {
        "id": "qci8gboYhbN3",
        "colab_type": "code",
        "colab": {}
      },
      "source": [
        "telco_data =  pd.read_csv('https://raw.githubusercontent.com/cjflanagan/cs68/master/Telco-Customer-Churn.csv')"
      ],
      "execution_count": 2,
      "outputs": []
    },
    {
      "cell_type": "code",
      "metadata": {
        "id": "b690OWObheZ-",
        "colab_type": "code",
        "colab": {
          "base_uri": "https://localhost:8080/",
          "height": 121
        },
        "outputId": "c363bfc8-ebe2-4035-841b-14adde1082d2"
      },
      "source": [
        "telco_data.columns"
      ],
      "execution_count": 3,
      "outputs": [
        {
          "output_type": "execute_result",
          "data": {
            "text/plain": [
              "Index(['customerID', 'gender', 'SeniorCitizen', 'Partner', 'Dependents',\n",
              "       'tenure', 'PhoneService', 'MultipleLines', 'InternetService',\n",
              "       'OnlineSecurity', 'OnlineBackup', 'DeviceProtection', 'TechSupport',\n",
              "       'StreamingTV', 'StreamingMovies', 'Contract', 'PaperlessBilling',\n",
              "       'PaymentMethod', 'MonthlyCharges', 'TotalCharges', 'Churn'],\n",
              "      dtype='object')"
            ]
          },
          "metadata": {
            "tags": []
          },
          "execution_count": 3
        }
      ]
    },
    {
      "cell_type": "code",
      "metadata": {
        "id": "DIMIv1yUhx65",
        "colab_type": "code",
        "colab": {
          "base_uri": "https://localhost:8080/",
          "height": 69
        },
        "outputId": "8131d3e0-630c-4ded-ced4-19d2d2ccc458"
      },
      "source": [
        "telco_data.Churn.value_counts()"
      ],
      "execution_count": 4,
      "outputs": [
        {
          "output_type": "execute_result",
          "data": {
            "text/plain": [
              "No     3738\n",
              "Yes    1332\n",
              "Name: Churn, dtype: int64"
            ]
          },
          "metadata": {
            "tags": []
          },
          "execution_count": 4
        }
      ]
    },
    {
      "cell_type": "code",
      "metadata": {
        "id": "0gM7BvE3K-lf",
        "colab_type": "code",
        "colab": {
          "base_uri": "https://localhost:8080/",
          "height": 281
        },
        "outputId": "8bf9d2b7-357e-429f-ad57-5de337a2d56c"
      },
      "source": [
        "telco_data.Churn.value_counts().plot(kind='barh', title='Churn counts')\n",
        "plt.show() "
      ],
      "execution_count": 5,
      "outputs": [
        {
          "output_type": "display_data",
          "data": {
            "image/png": "[encoded data removed]",
            "text/plain": [
              "<Figure size 432x288 with 1 Axes>"
            ]
          },
          "metadata": {
            "tags": [],
            "needs_background": "light"
          }
        }
      ]
    },
    {
      "cell_type": "code",
      "metadata": {
        "id": "vcibGFGfRkay",
        "colab_type": "code",
        "colab": {}
      },
      "source": [
        "telco_data.Churn = telco_data.Churn.replace({'Yes':1, 'No':0}) # Replacing 'Yes' and 'No' with numerical values"
      ],
      "execution_count": 6,
      "outputs": []
    },
    {
      "cell_type": "code",
      "metadata": {
        "id": "cXpEGzD7DoFO",
        "colab_type": "code",
        "colab": {}
      },
      "source": [
        "y = telco_data.pop('Churn') # Removing Churn field and storing it in variable y\n",
        "X = telco_data[['SeniorCitizen', 'tenure']] # Creating a smaller subset of features"
      ],
      "execution_count": 7,
      "outputs": []
    },
    {
      "cell_type": "code",
      "metadata": {
        "id": "SvKEdOxp6IIe",
        "colab_type": "code",
        "colab": {
          "base_uri": "https://localhost:8080/",
          "height": 104
        },
        "outputId": "2728cc7e-7185-43bc-f7f6-dbb3609a850d"
      },
      "source": [
        "telco_data.PaymentMethod.value_counts()"
      ],
      "execution_count": 8,
      "outputs": [
        {
          "output_type": "execute_result",
          "data": {
            "text/plain": [
              "Electronic check             1691\n",
              "Mailed check                 1153\n",
              "Bank transfer (automatic)    1116\n",
              "Credit card (automatic)      1110\n",
              "Name: PaymentMethod, dtype: int64"
            ]
          },
          "metadata": {
            "tags": []
          },
          "execution_count": 8
        }
      ]
    },
    {
      "cell_type": "markdown",
      "metadata": {
        "id": "NCSBvz-pSIf_",
        "colab_type": "text"
      },
      "source": [
        "# Splitting data"
      ]
    },
    {
      "cell_type": "code",
      "metadata": {
        "id": "NpNv01owDUK0",
        "colab_type": "code",
        "colab": {}
      },
      "source": [
        "X_train, X_test, y_train, y_test = train_test_split(X, y, test_size = 0.25)"
      ],
      "execution_count": 9,
      "outputs": []
    },
    {
      "cell_type": "code",
      "metadata": {
        "id": "Jieqi1nUDUNi",
        "colab_type": "code",
        "colab": {
          "base_uri": "https://localhost:8080/",
          "height": 202
        },
        "outputId": "e56ed438-5925-42bb-d8df-9c4172cd79e0"
      },
      "source": [
        "X_train.head()"
      ],
      "execution_count": 10,
      "outputs": [
        {
          "output_type": "execute_result",
          "data": {
            "text/html": [
              "<div>\n",
              "<style scoped>\n",
              "    .dataframe tbody tr th:only-of-type {\n",
              "        vertical-align: middle;\n",
              "    }\n",
              "\n",
              "    .dataframe tbody tr th {\n",
              "        vertical-align: top;\n",
              "    }\n",
              "\n",
              "    .dataframe thead th {\n",
              "        text-align: right;\n",
              "    }\n",
              "</style>\n",
              "<table border=\"1\" class=\"dataframe\">\n",
              "  <thead>\n",
              "    <tr style=\"text-align: right;\">\n",
              "      <th></th>\n",
              "      <th>SeniorCitizen</th>\n",
              "      <th>tenure</th>\n",
              "    </tr>\n",
              "  </thead>\n",
              "  <tbody>\n",
              "    <tr>\n",
              "      <th>2717</th>\n",
              "      <td>0</td>\n",
              "      <td>72</td>\n",
              "    </tr>\n",
              "    <tr>\n",
              "      <th>5034</th>\n",
              "      <td>1</td>\n",
              "      <td>48</td>\n",
              "    </tr>\n",
              "    <tr>\n",
              "      <th>3657</th>\n",
              "      <td>0</td>\n",
              "      <td>37</td>\n",
              "    </tr>\n",
              "    <tr>\n",
              "      <th>4892</th>\n",
              "      <td>1</td>\n",
              "      <td>20</td>\n",
              "    </tr>\n",
              "    <tr>\n",
              "      <th>720</th>\n",
              "      <td>0</td>\n",
              "      <td>2</td>\n",
              "    </tr>\n",
              "  </tbody>\n",
              "</table>\n",
              "</div>"
            ],
            "text/plain": [
              "      SeniorCitizen  tenure\n",
              "2717              0      72\n",
              "5034              1      48\n",
              "3657              0      37\n",
              "4892              1      20\n",
              "720               0       2"
            ]
          },
          "metadata": {
            "tags": []
          },
          "execution_count": 10
        }
      ]
    },
    {
      "cell_type": "markdown",
      "metadata": {
        "id": "_SQRLHnRSF22",
        "colab_type": "text"
      },
      "source": [
        "# Fitting model"
      ]
    },
    {
      "cell_type": "code",
      "metadata": {
        "id": "iACRLyq_D5HS",
        "colab_type": "code",
        "colab": {}
      },
      "source": [
        "# fit a model\n",
        "clf = LogisticRegression(penalty='l2').fit(X_train, y_train)\n",
        "# predict probabilities\n",
        "predictions = clf.predict_proba(X_test)[:, 1]"
      ],
      "execution_count": 11,
      "outputs": []
    },
    {
      "cell_type": "markdown",
      "metadata": {
        "id": "nKymbrbjSCxA",
        "colab_type": "text"
      },
      "source": [
        "# Evaluating model"
      ]
    },
    {
      "cell_type": "code",
      "metadata": {
        "id": "rj61HvVXD5MS",
        "colab_type": "code",
        "colab": {
          "base_uri": "https://localhost:8080/",
          "height": 578
        },
        "outputId": "de2a8b95-a66c-441b-d2aa-475c5ae24377"
      },
      "source": [
        "# calculate scores\n",
        "auc = roc_auc_score(y_test, predictions)\n",
        "\n",
        "# calculate roc curves\n",
        "fpr, tpr, _ = roc_curve(y_test, predictions)\n",
        "\n",
        "plt.figure(figsize=(15, 10))\n",
        "# plot horizontal line \n",
        "plt.plot([0, 1], [0, 1], linestyle='--')\n",
        "# plot the roc curve for the model\n",
        "plt.plot(fpr, tpr, label='ROC curve (AUC = %0.2f)' % auc)\n",
        "# axis labels\n",
        "plt.xlabel('FPR')\n",
        "plt.ylabel('TPR')\n",
        "# show the legend\n",
        "plt.legend(loc='lower right')\n",
        "# show the plot\n",
        "plt.show()"
      ],
      "execution_count": 12,
      "outputs": [
        {
          "output_type": "display_data",
          "data": {
            "image/png": "[encoded data removed]",
            "text/plain": [
              "<Figure size 1080x720 with 1 Axes>"
            ]
          },
          "metadata": {
            "tags": [],
            "needs_background": "light"
          }
        }
      ]
    },
    {
      "cell_type": "code",
      "metadata": {
        "id": "07DJ8BU_RfMw",
        "colab_type": "code",
        "colab": {
          "base_uri": "https://localhost:8080/",
          "height": 281
        },
        "outputId": "9e027e1c-fc9e-4ec7-bbb3-d72863cd1c52"
      },
      "source": [
        "feature_importance = abs(clf.coef_[0])\n",
        "# feature_importance = 100.0 * (feature_importance / feature_importance.max())\n",
        "sorted_idx = np.argsort(feature_importance)\n",
        "pos = np.arange(sorted_idx.shape[0]) + .5\n",
        "\n",
        "featfig = plt.figure()\n",
        "featax = featfig.add_subplot(1, 1, 1)\n",
        "featax.barh(pos, feature_importance[sorted_idx], align='center')\n",
        "featax.set_yticks(pos)\n",
        "featax.set_yticklabels(np.array(X.columns)[sorted_idx], fontsize=8)\n",
        "\n",
        "plt.title('Feature Importance')\n",
        "plt.show()"
      ],
      "execution_count": 13,
      "outputs": [
        {
          "output_type": "display_data",
          "data": {
            "image/png": "[encoded data removed]",
            "text/plain": [
              "<Figure size 432x288 with 1 Axes>"
            ]
          },
          "metadata": {
            "tags": [],
            "needs_background": "light"
          }
        }
      ]
    },
    {
      "cell_type": "markdown",
      "metadata": {
        "id": "x5wEXidg8dpo",
        "colab_type": "text"
      },
      "source": [
        "#My tests"
      ]
    },
    {
      "cell_type": "code",
      "metadata": {
        "id": "-6BM3poLw9El",
        "colab_type": "code",
        "colab": {}
      },
      "source": [
        "telco_data.info()"
      ],
      "execution_count": null,
      "outputs": []
    },
    {
      "cell_type": "code",
      "metadata": {
        "id": "Zk_eTqtPON2N",
        "colab_type": "code",
        "colab": {
          "base_uri": "https://localhost:8080/",
          "height": 87
        },
        "outputId": "dec10aed-c4b4-4fdd-c9ab-ba5ac67c9f34"
      },
      "source": [
        "# telco_data.TechSupport.isnull().any()\n",
        "telco_data.OnlineSecurity.value_counts()"
      ],
      "execution_count": 141,
      "outputs": [
        {
          "output_type": "execute_result",
          "data": {
            "text/plain": [
              "No                     2504\n",
              "Yes                    1453\n",
              "No internet service    1113\n",
              "Name: OnlineSecurity, dtype: int64"
            ]
          },
          "metadata": {
            "tags": []
          },
          "execution_count": 141
        }
      ]
    },
    {
      "cell_type": "markdown",
      "metadata": {
        "id": "ZGDLTgPJdn7w",
        "colab_type": "text"
      },
      "source": [
        "## Categorical fields only: PaymentMethod, Multiple Lines, InternetService, Contract"
      ]
    },
    {
      "cell_type": "markdown",
      "metadata": {
        "id": "HEHnsw-ReDuB",
        "colab_type": "text"
      },
      "source": [
        "###subset the data"
      ]
    },
    {
      "cell_type": "code",
      "metadata": {
        "id": "-gP0PCFzeVoZ",
        "colab_type": "code",
        "colab": {
          "base_uri": "https://localhost:8080/",
          "height": 243
        },
        "outputId": "ff54b185-b6a6-4b49-d4f4-2eaaa06ff996"
      },
      "source": [
        "X2 = telco_data[['PaymentMethod', 'MultipleLines', 'InternetService', 'Contract','OnlineSecurity','OnlineBackup']] # Creating a smaller subset of features\n",
        "X2.info()"
      ],
      "execution_count": 177,
      "outputs": [
        {
          "output_type": "stream",
          "text": [
            "<class 'pandas.core.frame.DataFrame'>\n",
            "RangeIndex: 5070 entries, 0 to 5069\n",
            "Data columns (total 6 columns):\n",
            " #   Column           Non-Null Count  Dtype \n",
            "---  ------           --------------  ----- \n",
            " 0   PaymentMethod    5070 non-null   object\n",
            " 1   MultipleLines    5070 non-null   object\n",
            " 2   InternetService  5070 non-null   object\n",
            " 3   Contract         5070 non-null   object\n",
            " 4   OnlineSecurity   5070 non-null   object\n",
            " 5   OnlineBackup     5070 non-null   object\n",
            "dtypes: object(6)\n",
            "memory usage: 237.8+ KB\n"
          ],
          "name": "stdout"
        }
      ]
    },
    {
      "cell_type": "markdown",
      "metadata": {
        "id": "r68SzNU1emsS",
        "colab_type": "text"
      },
      "source": [
        "###change the categorical columns and values into dummies"
      ]
    },
    {
      "cell_type": "code",
      "metadata": {
        "id": "LtaEpi00eVu9",
        "colab_type": "code",
        "colab": {
          "base_uri": "https://localhost:8080/",
          "height": 469
        },
        "outputId": "91dd4b73-037a-43dc-d9c8-b3f1c57c3b7a"
      },
      "source": [
        "#dummify\n",
        "dum_X2 = pd.get_dummies(data=X2, drop_first=True) \n",
        "dum_X2"
      ],
      "execution_count": 178,
      "outputs": [
        {
          "output_type": "execute_result",
          "data": {
            "text/html": [
              "<div>\n",
              "<style scoped>\n",
              "    .dataframe tbody tr th:only-of-type {\n",
              "        vertical-align: middle;\n",
              "    }\n",
              "\n",
              "    .dataframe tbody tr th {\n",
              "        vertical-align: top;\n",
              "    }\n",
              "\n",
              "    .dataframe thead th {\n",
              "        text-align: right;\n",
              "    }\n",
              "</style>\n",
              "<table border=\"1\" class=\"dataframe\">\n",
              "  <thead>\n",
              "    <tr style=\"text-align: right;\">\n",
              "      <th></th>\n",
              "      <th>PaymentMethod_Credit card (automatic)</th>\n",
              "      <th>PaymentMethod_Electronic check</th>\n",
              "      <th>PaymentMethod_Mailed check</th>\n",
              "      <th>MultipleLines_No phone service</th>\n",
              "      <th>MultipleLines_Yes</th>\n",
              "      <th>InternetService_Fiber optic</th>\n",
              "      <th>InternetService_No</th>\n",
              "      <th>Contract_One year</th>\n",
              "      <th>Contract_Two year</th>\n",
              "      <th>OnlineSecurity_No internet service</th>\n",
              "      <th>OnlineSecurity_Yes</th>\n",
              "      <th>OnlineBackup_No internet service</th>\n",
              "      <th>OnlineBackup_Yes</th>\n",
              "    </tr>\n",
              "  </thead>\n",
              "  <tbody>\n",
              "    <tr>\n",
              "      <th>0</th>\n",
              "      <td>0</td>\n",
              "      <td>1</td>\n",
              "      <td>0</td>\n",
              "      <td>1</td>\n",
              "      <td>0</td>\n",
              "      <td>0</td>\n",
              "      <td>0</td>\n",
              "      <td>0</td>\n",
              "      <td>0</td>\n",
              "      <td>0</td>\n",
              "      <td>0</td>\n",
              "      <td>0</td>\n",
              "      <td>1</td>\n",
              "    </tr>\n",
              "    <tr>\n",
              "      <th>1</th>\n",
              "      <td>0</td>\n",
              "      <td>0</td>\n",
              "      <td>1</td>\n",
              "      <td>0</td>\n",
              "      <td>0</td>\n",
              "      <td>0</td>\n",
              "      <td>0</td>\n",
              "      <td>1</td>\n",
              "      <td>0</td>\n",
              "      <td>0</td>\n",
              "      <td>1</td>\n",
              "      <td>0</td>\n",
              "      <td>0</td>\n",
              "    </tr>\n",
              "    <tr>\n",
              "      <th>2</th>\n",
              "      <td>0</td>\n",
              "      <td>0</td>\n",
              "      <td>1</td>\n",
              "      <td>0</td>\n",
              "      <td>0</td>\n",
              "      <td>0</td>\n",
              "      <td>0</td>\n",
              "      <td>0</td>\n",
              "      <td>0</td>\n",
              "      <td>0</td>\n",
              "      <td>1</td>\n",
              "      <td>0</td>\n",
              "      <td>1</td>\n",
              "    </tr>\n",
              "    <tr>\n",
              "      <th>3</th>\n",
              "      <td>0</td>\n",
              "      <td>0</td>\n",
              "      <td>0</td>\n",
              "      <td>1</td>\n",
              "      <td>0</td>\n",
              "      <td>0</td>\n",
              "      <td>0</td>\n",
              "      <td>1</td>\n",
              "      <td>0</td>\n",
              "      <td>0</td>\n",
              "      <td>1</td>\n",
              "      <td>0</td>\n",
              "      <td>0</td>\n",
              "    </tr>\n",
              "    <tr>\n",
              "      <th>4</th>\n",
              "      <td>0</td>\n",
              "      <td>1</td>\n",
              "      <td>0</td>\n",
              "      <td>0</td>\n",
              "      <td>0</td>\n",
              "      <td>1</td>\n",
              "      <td>0</td>\n",
              "      <td>0</td>\n",
              "      <td>0</td>\n",
              "      <td>0</td>\n",
              "      <td>0</td>\n",
              "      <td>0</td>\n",
              "      <td>0</td>\n",
              "    </tr>\n",
              "    <tr>\n",
              "      <th>...</th>\n",
              "      <td>...</td>\n",
              "      <td>...</td>\n",
              "      <td>...</td>\n",
              "      <td>...</td>\n",
              "      <td>...</td>\n",
              "      <td>...</td>\n",
              "      <td>...</td>\n",
              "      <td>...</td>\n",
              "      <td>...</td>\n",
              "      <td>...</td>\n",
              "      <td>...</td>\n",
              "      <td>...</td>\n",
              "      <td>...</td>\n",
              "    </tr>\n",
              "    <tr>\n",
              "      <th>5065</th>\n",
              "      <td>0</td>\n",
              "      <td>0</td>\n",
              "      <td>0</td>\n",
              "      <td>0</td>\n",
              "      <td>1</td>\n",
              "      <td>0</td>\n",
              "      <td>1</td>\n",
              "      <td>1</td>\n",
              "      <td>0</td>\n",
              "      <td>1</td>\n",
              "      <td>0</td>\n",
              "      <td>1</td>\n",
              "      <td>0</td>\n",
              "    </tr>\n",
              "    <tr>\n",
              "      <th>5066</th>\n",
              "      <td>0</td>\n",
              "      <td>0</td>\n",
              "      <td>0</td>\n",
              "      <td>1</td>\n",
              "      <td>0</td>\n",
              "      <td>0</td>\n",
              "      <td>0</td>\n",
              "      <td>0</td>\n",
              "      <td>1</td>\n",
              "      <td>0</td>\n",
              "      <td>0</td>\n",
              "      <td>0</td>\n",
              "      <td>1</td>\n",
              "    </tr>\n",
              "    <tr>\n",
              "      <th>5067</th>\n",
              "      <td>0</td>\n",
              "      <td>0</td>\n",
              "      <td>0</td>\n",
              "      <td>0</td>\n",
              "      <td>0</td>\n",
              "      <td>0</td>\n",
              "      <td>0</td>\n",
              "      <td>0</td>\n",
              "      <td>0</td>\n",
              "      <td>0</td>\n",
              "      <td>1</td>\n",
              "      <td>0</td>\n",
              "      <td>0</td>\n",
              "    </tr>\n",
              "    <tr>\n",
              "      <th>5068</th>\n",
              "      <td>0</td>\n",
              "      <td>0</td>\n",
              "      <td>0</td>\n",
              "      <td>0</td>\n",
              "      <td>0</td>\n",
              "      <td>0</td>\n",
              "      <td>1</td>\n",
              "      <td>0</td>\n",
              "      <td>1</td>\n",
              "      <td>1</td>\n",
              "      <td>0</td>\n",
              "      <td>1</td>\n",
              "      <td>0</td>\n",
              "    </tr>\n",
              "    <tr>\n",
              "      <th>5069</th>\n",
              "      <td>0</td>\n",
              "      <td>1</td>\n",
              "      <td>0</td>\n",
              "      <td>0</td>\n",
              "      <td>1</td>\n",
              "      <td>1</td>\n",
              "      <td>0</td>\n",
              "      <td>0</td>\n",
              "      <td>0</td>\n",
              "      <td>0</td>\n",
              "      <td>0</td>\n",
              "      <td>0</td>\n",
              "      <td>0</td>\n",
              "    </tr>\n",
              "  </tbody>\n",
              "</table>\n",
              "<p>5070 rows × 13 columns</p>\n",
              "</div>"
            ],
            "text/plain": [
              "      PaymentMethod_Credit card (automatic)  ...  OnlineBackup_Yes\n",
              "0                                         0  ...                 1\n",
              "1                                         0  ...                 0\n",
              "2                                         0  ...                 1\n",
              "3                                         0  ...                 0\n",
              "4                                         0  ...                 0\n",
              "...                                     ...  ...               ...\n",
              "5065                                      0  ...                 0\n",
              "5066                                      0  ...                 1\n",
              "5067                                      0  ...                 0\n",
              "5068                                      0  ...                 0\n",
              "5069                                      0  ...                 0\n",
              "\n",
              "[5070 rows x 13 columns]"
            ]
          },
          "metadata": {
            "tags": []
          },
          "execution_count": 178
        }
      ]
    },
    {
      "cell_type": "markdown",
      "metadata": {
        "id": "9qXU4I1beIwV",
        "colab_type": "text"
      },
      "source": [
        "###make new x and y for training and test set"
      ]
    },
    {
      "cell_type": "code",
      "metadata": {
        "id": "tvfDDGepeNS3",
        "colab_type": "code",
        "colab": {}
      },
      "source": [
        "X2_train, X2_test, y_train, y_test = train_test_split(dum_X2, y, test_size = 0.25)"
      ],
      "execution_count": 179,
      "outputs": []
    },
    {
      "cell_type": "markdown",
      "metadata": {
        "id": "YcyF8kiNeWX2",
        "colab_type": "text"
      },
      "source": [
        "### fit and evaluate model"
      ]
    },
    {
      "cell_type": "code",
      "metadata": {
        "id": "Z5R7JDii29sr",
        "colab_type": "code",
        "colab": {}
      },
      "source": [
        "# fit a model\n",
        "clf = LogisticRegression(penalty='l2').fit(X2_train, y_train)\n",
        "# predict probabilities\n",
        "predictions = clf.predict_proba(X2_test)[:, 1]"
      ],
      "execution_count": 180,
      "outputs": []
    },
    {
      "cell_type": "code",
      "metadata": {
        "id": "qDykXrqx3Foi",
        "colab_type": "code",
        "colab": {
          "base_uri": "https://localhost:8080/",
          "height": 578
        },
        "outputId": "3a543f78-7f67-4cae-935e-363cd3ed69a6"
      },
      "source": [
        "# evaluate\n",
        "\n",
        "# calculate scores\n",
        "auc = roc_auc_score(y_test, predictions)\n",
        "\n",
        "# calculate roc curves\n",
        "fpr, tpr, _ = roc_curve(y_test, predictions)\n",
        "\n",
        "plt.figure(figsize=(15, 10))\n",
        "# plot horizontal line \n",
        "plt.plot([0, 1], [0, 1], linestyle='--')\n",
        "# plot the roc curve for the model\n",
        "plt.plot(fpr, tpr, label='ROC curve (AUC = %0.2f)' % auc)\n",
        "# axis labels\n",
        "plt.xlabel('FPR')\n",
        "plt.ylabel('TPR')\n",
        "# show the legend\n",
        "plt.legend(loc='lower right')\n",
        "# show the plot\n",
        "plt.show()"
      ],
      "execution_count": 181,
      "outputs": [
        {
          "output_type": "display_data",
          "data": {
            "image/png": "[encoded data removed]",
            "text/plain": [
              "<Figure size 1080x720 with 1 Axes>"
            ]
          },
          "metadata": {
            "tags": [],
            "needs_background": "light"
          }
        }
      ]
    },
    {
      "cell_type": "code",
      "metadata": {
        "id": "A-HpnP9a6aCF",
        "colab_type": "code",
        "colab": {
          "base_uri": "https://localhost:8080/",
          "height": 69
        },
        "outputId": "fa19bf76-1670-4c6a-f5e8-6bbc08b3c42e"
      },
      "source": [
        "# sorted_idx.shape[0]\n",
        "X2.columns"
      ],
      "execution_count": 182,
      "outputs": [
        {
          "output_type": "execute_result",
          "data": {
            "text/plain": [
              "Index(['PaymentMethod', 'MultipleLines', 'InternetService', 'Contract',\n",
              "       'OnlineSecurity', 'OnlineBackup'],\n",
              "      dtype='object')"
            ]
          },
          "metadata": {
            "tags": []
          },
          "execution_count": 182
        }
      ]
    },
    {
      "cell_type": "markdown",
      "metadata": {
        "id": "SK0-ZBdE4gPZ",
        "colab_type": "text"
      },
      "source": [
        "###feature importance"
      ]
    },
    {
      "cell_type": "code",
      "metadata": {
        "id": "j4F1NRMa4f7u",
        "colab_type": "code",
        "colab": {
          "base_uri": "https://localhost:8080/",
          "height": 281
        },
        "outputId": "37554da2-7368-49f5-d0ef-08467f411396"
      },
      "source": [
        "feature_importance = abs(clf.coef_[0])\n",
        "feature_importance = 100.0 * (feature_importance / feature_importance.max())\n",
        "sorted_idx = np.argsort(feature_importance)\n",
        "pos = np.arange(sorted_idx.shape[0]) + .5\n",
        "\n",
        "featfig = plt.figure()\n",
        "featax = featfig.add_subplot(1, 1, 1)\n",
        "featax.barh(pos, feature_importance[sorted_idx], align='center')\n",
        "featax.set_yticks(pos)\n",
        "featax.set_yticklabels(np.array(X2_test.columns)[sorted_idx], fontsize=8)\n",
        "\n",
        "plt.title('Feature Importance')\n",
        "plt.show()"
      ],
      "execution_count": 183,
      "outputs": [
        {
          "output_type": "display_data",
          "data": {
            "image/png": "[encoded data removed]",
            "text/plain": [
              "<Figure size 432x288 with 1 Axes>"
            ]
          },
          "metadata": {
            "tags": [],
            "needs_background": "light"
          }
        }
      ]
    },
    {
      "cell_type": "markdown",
      "metadata": {
        "id": "VtXNIK6gukLG",
        "colab_type": "text"
      },
      "source": [
        "###correlation matrix"
      ]
    },
    {
      "cell_type": "code",
      "metadata": {
        "id": "yO1BKbsdsOqJ",
        "colab_type": "code",
        "colab": {
          "base_uri": "https://localhost:8080/",
          "height": 674
        },
        "outputId": "c935d829-16a7-4027-8481-12e47056d381"
      },
      "source": [
        "corr_matrix = dum_X2.corr()\n",
        "\n",
        "plt.figure(figsize=(15, 10))\n",
        "sns.heatmap(corr_matrix)\n",
        "plt.show()"
      ],
      "execution_count": 24,
      "outputs": [
        {
          "output_type": "display_data",
          "data": {
            "image/png": "[encoded data removed]",
            "text/plain": [
              "<Figure size 1080x720 with 2 Axes>"
            ]
          },
          "metadata": {
            "tags": [],
            "needs_background": "light"
          }
        }
      ]
    },
    {
      "cell_type": "markdown",
      "metadata": {
        "id": "CUgQ4u-v3cXS",
        "colab_type": "text"
      },
      "source": [
        "## Numerical Values: MonthlyCharges, TotalCharges, tenure\n"
      ]
    },
    {
      "cell_type": "code",
      "metadata": {
        "id": "p7Qpw81oIVyN",
        "colab_type": "code",
        "colab": {
          "base_uri": "https://localhost:8080/",
          "height": 87
        },
        "outputId": "38e51038-07a7-41bb-865e-ca8a1e893969"
      },
      "source": [
        "x3.isnull().sum()\n"
      ],
      "execution_count": 56,
      "outputs": [
        {
          "output_type": "execute_result",
          "data": {
            "text/plain": [
              "MonthlyCharges    0\n",
              "TotalCharges      8\n",
              "tenure            0\n",
              "dtype: int64"
            ]
          },
          "metadata": {
            "tags": []
          },
          "execution_count": 56
        }
      ]
    },
    {
      "cell_type": "markdown",
      "metadata": {
        "id": "WgsFVP026ba2",
        "colab_type": "text"
      },
      "source": [
        "###subset and scale"
      ]
    },
    {
      "cell_type": "code",
      "metadata": {
        "id": "hO5Xcxed36EB",
        "colab_type": "code",
        "colab": {}
      },
      "source": [
        "num_var_cols = ['MonthlyCharges', 'TotalCharges','tenure']\n",
        "x3 = telco_data[num_vars]\n",
        "\n",
        "x3.TotalCharges = x3.TotalCharges.convert_dtypes()\n",
        "x3['TotalCharges'] = pd.to_numeric(x3['TotalCharges'], errors='coerce')\n",
        "x3 = x3.fillna(0)\n",
        "# x3.isnull().sum()\n",
        "\n",
        "#scale it!\n",
        "std = StandardScaler()\n",
        "scaled_x3 = std.fit_transform(x3)\n",
        "scaled_x3 = pd.DataFrame(scaled, columns=num_var_cols)\n"
      ],
      "execution_count": null,
      "outputs": []
    },
    {
      "cell_type": "code",
      "metadata": {
        "id": "pKSjPwkgJuuR",
        "colab_type": "code",
        "colab": {}
      },
      "source": [
        "scaled_x3"
      ],
      "execution_count": null,
      "outputs": []
    },
    {
      "cell_type": "markdown",
      "metadata": {
        "id": "TLiUSLMFGEhb",
        "colab_type": "text"
      },
      "source": [
        "###split and fit!"
      ]
    },
    {
      "cell_type": "code",
      "metadata": {
        "id": "BH7qqp0S358o",
        "colab_type": "code",
        "colab": {}
      },
      "source": [
        "#split\n",
        "x3_train, x3_test, y_train, y_test = train_test_split(scaled_x3, y, test_size = 0.25)\n",
        "\n",
        "#fit\n",
        "clf = LogisticRegression(penalty='l2').fit(x3_train, y_train)\n",
        "#predict probabilities\n",
        "predict_x3 = clf.predict_proba(x3_test)[:,1]"
      ],
      "execution_count": 62,
      "outputs": []
    },
    {
      "cell_type": "code",
      "metadata": {
        "id": "VVj_2Lkr35fE",
        "colab_type": "code",
        "colab": {
          "base_uri": "https://localhost:8080/",
          "height": 52
        },
        "outputId": "8d09dcf4-9f84-4a89-bac8-dad5adf0f9dc"
      },
      "source": [
        "predict_x3"
      ],
      "execution_count": 63,
      "outputs": [
        {
          "output_type": "execute_result",
          "data": {
            "text/plain": [
              "array([0.00656921, 0.53310768, 0.05548002, ..., 0.01177597, 0.70145271,\n",
              "       0.05313137])"
            ]
          },
          "metadata": {
            "tags": []
          },
          "execution_count": 63
        }
      ]
    },
    {
      "cell_type": "markdown",
      "metadata": {
        "id": "gkOVU1zxJ_i2",
        "colab_type": "text"
      },
      "source": [
        "### evaluating model and get AUC"
      ]
    },
    {
      "cell_type": "code",
      "metadata": {
        "id": "khjAZs7uKJw7",
        "colab_type": "code",
        "colab": {
          "base_uri": "https://localhost:8080/",
          "height": 578
        },
        "outputId": "660fd25d-674d-468d-cc1d-3fd9a9998ec0"
      },
      "source": [
        "# calculate scores\n",
        "auc = roc_auc_score(y_test, predict_x3)\n",
        "\n",
        "# calculate roc curves\n",
        "fpr, tpr, _ = roc_curve(y_test, predict_x3)\n",
        "\n",
        "plt.figure(figsize=(15, 10))\n",
        "# plot horizontal line \n",
        "plt.plot([0, 1], [0, 1], linestyle='--')\n",
        "# plot the roc curve for the model\n",
        "plt.plot(fpr, tpr, label='ROC curve (AUC = %0.2f)' % auc)\n",
        "# axis labels\n",
        "plt.xlabel('FPR')\n",
        "plt.ylabel('TPR')\n",
        "# show the legend\n",
        "plt.legend(loc='lower right')\n",
        "# show the plot\n",
        "plt.show()"
      ],
      "execution_count": 64,
      "outputs": [
        {
          "output_type": "display_data",
          "data": {
            "image/png": "[encoded data removed]",
            "text/plain": [
              "<Figure size 1080x720 with 1 Axes>"
            ]
          },
          "metadata": {
            "tags": [],
            "needs_background": "light"
          }
        }
      ]
    },
    {
      "cell_type": "markdown",
      "metadata": {
        "id": "-AKIoKpaKYyy",
        "colab_type": "text"
      },
      "source": [
        "###feature importance"
      ]
    },
    {
      "cell_type": "code",
      "metadata": {
        "id": "szKffqgTKYMq",
        "colab_type": "code",
        "colab": {
          "base_uri": "https://localhost:8080/",
          "height": 281
        },
        "outputId": "2dc4c08e-2ad0-456b-bd0f-67351bd2f94b"
      },
      "source": [
        "feature_importance = abs(clf.coef_[0])\n",
        "feature_importance = 100.0 * (feature_importance / feature_importance.max())\n",
        "sorted_idx = np.argsort(feature_importance)\n",
        "pos = np.arange(sorted_idx.shape[0]) + .5\n",
        "\n",
        "featfig = plt.figure()\n",
        "featax = featfig.add_subplot(1, 1, 1)\n",
        "featax.barh(pos, feature_importance[sorted_idx], align='center')\n",
        "featax.set_yticks(pos)\n",
        "featax.set_yticklabels(np.array(scaled_x3.columns)[sorted_idx], fontsize=8)\n",
        "\n",
        "plt.title('Feature Importance')\n",
        "plt.show()"
      ],
      "execution_count": 67,
      "outputs": [
        {
          "output_type": "display_data",
          "data": {
            "image/png": "[encoded data removed]",
            "text/plain": [
              "<Figure size 432x288 with 1 Axes>"
            ]
          },
          "metadata": {
            "tags": [],
            "needs_background": "light"
          }
        }
      ]
    },
    {
      "cell_type": "markdown",
      "metadata": {
        "id": "xL4DDq_RM3LS",
        "colab_type": "text"
      },
      "source": [
        "## Mixed Vars: tenure, MonthlyCharges, Contract, InternetService, Dependents, OnlineSecurity, OnlineBackup, \n",
        "\n",
        "took the top features of numerical and categorical"
      ]
    },
    {
      "cell_type": "markdown",
      "metadata": {
        "id": "phi93DhBvXAt",
        "colab_type": "text"
      },
      "source": [
        "## My functions"
      ]
    },
    {
      "cell_type": "code",
      "metadata": {
        "id": "aFUt1m4FuQnd",
        "colab_type": "code",
        "colab": {
          "base_uri": "https://localhost:8080/",
          "height": 235
        },
        "outputId": "d38899e0-2153-4aef-d61f-a1545fc1e169"
      },
      "source": [
        "\n",
        "ajdklf;jsd\n",
        "def get_dependent_vars(df,var_list):\n",
        "  \n",
        "  dep_df = df[var_list] #subset it\n",
        "\n",
        "  # separate object-types into categorical vars and binary vars\n",
        "  cat_cols = dep_df.columns[dep_df.dtypes == 'object'].tolist()\n",
        "  \n",
        "  bin_cat_cols = dep_df.columns[dep_df.columns.nunique() == 2].tolist() \n",
        "  multi_cat_cols = dep_df.columns[dep_df.columns.nunique() > 2].tolist()\n",
        "  \n",
        "  # LabelEncoder() bin_cat_cols\n",
        "  # for column in bin_cat_cols :\n",
        "  #   dep_df[column] = LabelEncoder().fit_transform(df[column])  \n",
        "\n",
        "  dddf = pd.get_dummies(data = dep_df, drop_first=True)\n",
        "  print(dddf)\n",
        "\n",
        "  # print(dep_df.info())\n",
        "\n",
        "  return dddf\n",
        "\n",
        "get_dependent_vars(telco_data, ['PaymentMethod', 'MultipleLines', 'InternetService', 'Contract'])"
      ],
      "execution_count": 16,
      "outputs": [
        {
          "output_type": "error",
          "ename": "NameError",
          "evalue": "ignored",
          "traceback": [
            "\u001b[0;31m---------------------------------------------------------------------------\u001b[0m",
            "\u001b[0;31mNameError\u001b[0m                                 Traceback (most recent call last)",
            "\u001b[0;32m<ipython-input-16-6028ec595f88>\u001b[0m in \u001b[0;36m<module>\u001b[0;34m()\u001b[0m\n\u001b[1;32m      1\u001b[0m \u001b[0;34m\u001b[0m\u001b[0m\n\u001b[0;32m----> 2\u001b[0;31m \u001b[0majdklf\u001b[0m\u001b[0;34m;\u001b[0m\u001b[0mjsd\u001b[0m\u001b[0;34m\u001b[0m\u001b[0;34m\u001b[0m\u001b[0m\n\u001b[0m\u001b[1;32m      3\u001b[0m \u001b[0;32mdef\u001b[0m \u001b[0mget_dependent_vars\u001b[0m\u001b[0;34m(\u001b[0m\u001b[0mdf\u001b[0m\u001b[0;34m,\u001b[0m\u001b[0mvar_list\u001b[0m\u001b[0;34m)\u001b[0m\u001b[0;34m:\u001b[0m\u001b[0;34m\u001b[0m\u001b[0;34m\u001b[0m\u001b[0m\n\u001b[1;32m      4\u001b[0m \u001b[0;34m\u001b[0m\u001b[0m\n\u001b[1;32m      5\u001b[0m   \u001b[0mdep_df\u001b[0m \u001b[0;34m=\u001b[0m \u001b[0mdf\u001b[0m\u001b[0;34m[\u001b[0m\u001b[0mvar_list\u001b[0m\u001b[0;34m]\u001b[0m \u001b[0;31m#subset it\u001b[0m\u001b[0;34m\u001b[0m\u001b[0;34m\u001b[0m\u001b[0m\n",
            "\u001b[0;31mNameError\u001b[0m: name 'ajdklf' is not defined"
          ]
        }
      ]
    },
    {
      "cell_type": "markdown",
      "metadata": {
        "id": "xRjMXXQi8n80",
        "colab_type": "text"
      },
      "source": [
        "### PaymentMethod, Multiple Lines, InternetService, Contract"
      ]
    },
    {
      "cell_type": "code",
      "metadata": {
        "id": "-wUQeVZCDf40",
        "colab_type": "code",
        "colab": {}
      },
      "source": [
        "# copy telco_data for safety\n",
        "master_telco_data = telco_data\n",
        "\n",
        "# drop customerID\n",
        "telco_data.drop(columns='customerID', inplace=True)\n",
        "\n",
        "# make TotalCharges into float64\n",
        "telco_data.TotalCharges = telco_data.TotalCharges.convert_dtypes() #make into string\n",
        "telco_data['TotalCharges'] = pd.to_numeric(telco_data['TotalCharges'], errors='coerce') #make into float\n",
        "\n",
        "#0. get numerical columns\n",
        "numerical_cols = telco_data.columns[telco_data.dtypes=='int64'].tolist()\n",
        "\n",
        "\n",
        "#1. get all columns that are non-numeric\n",
        "categorical_cols = telco_data.columns[telco_data.dtypes=='object'].tolist()\n",
        "\n",
        "#2. get all columns that are binary and change WITHIN the original dataframe and\n",
        "# them using LabelEncoder (incremental coding) because order does not matter\n",
        "binary_columns = telco_data[categorical_cols].nunique()[telco_data[categorical_cols].nunique() == 2].index.tolist()\n",
        "\n",
        "  # Transform binary_columns\n",
        "for column in binary_columns:\n",
        "  telco_data[column] = LabelEncoder().fit_transform(telco_data[column])\n",
        "\n",
        "#3. get all columns that are non-binary and change them using pd.get_dummies \n",
        "multi_valued_cols = telco_data[categorical_cols].nunique()[telco_data[categorical_cols].nunique() > 2].index.tolist()\n",
        "dummies_adjusted_data = pd.get_dummies(data=telco_data, columns=multi_valued_cols, drop_first=True )\n",
        "\n",
        "#4. combine the dummy data and now, encoded binary columns together\n"
      ],
      "execution_count": null,
      "outputs": []
    },
    {
      "cell_type": "code",
      "metadata": {
        "id": "J6tbhxzc2NHG",
        "colab_type": "code",
        "colab": {}
      },
      "source": [
        "# Scaling Numerical columns\n",
        "\n",
        "my_std = StandardScaler()\n",
        "scaled = my_std.fit_transform(dummies_adjusted_data[numerical_cols])\n",
        "scaled = pd.DataFrame(scaled, columns=numerical_cols)\n",
        "scaled"
      ],
      "execution_count": null,
      "outputs": []
    },
    {
      "cell_type": "code",
      "metadata": {
        "id": "yVmTN2tmYT15",
        "colab_type": "code",
        "colab": {}
      },
      "source": [
        "#integrate scaled into dummies prepped matrix and take out the old ones\n",
        "dummies_adjusted_data = dummies_adjusted_data.copy()\n",
        "\n",
        "data = dummies_adjusted_data.drop(columns = numerical_cols,axis = 1)\n",
        "data = data.merge(scaled,left_index=True,right_index=True,how = \"left\")\n",
        "data"
      ],
      "execution_count": null,
      "outputs": []
    },
    {
      "cell_type": "code",
      "metadata": {
        "id": "joTZmpCKdA61",
        "colab_type": "code",
        "colab": {}
      },
      "source": [
        "telco_data['SeniorCitizen']"
      ],
      "execution_count": null,
      "outputs": []
    },
    {
      "cell_type": "code",
      "metadata": {
        "id": "noZRjvHN8nWs",
        "colab_type": "code",
        "colab": {}
      },
      "source": [
        "#make new df\n",
        "x1 = data\n",
        "x1 = x1.fillna(0)\n",
        "\n",
        "#make into a def!!!\n",
        "# x1.isnull().any() #BOOLEAN tells which column has the null/nan\n",
        "# x1.TotalCharges = x1.TotalCharges.fillna(0)\n",
        "# x1.isnull().sum() #COUNT tells which column has the null/nan\n",
        "\n",
        "#split data\n",
        "x1_train, x1_test, y_train, y_test = train_test_split(x1, y, test_size = 0.25)\n",
        "x1_train.head()\n"
      ],
      "execution_count": null,
      "outputs": []
    },
    {
      "cell_type": "code",
      "metadata": {
        "id": "1EzQgdZ9YKvE",
        "colab_type": "code",
        "colab": {}
      },
      "source": [
        ""
      ],
      "execution_count": null,
      "outputs": []
    },
    {
      "cell_type": "code",
      "metadata": {
        "id": "FQKZD-R6bso2",
        "colab_type": "code",
        "colab": {}
      },
      "source": [
        "x1_train.isnull().any()"
      ],
      "execution_count": null,
      "outputs": []
    },
    {
      "cell_type": "code",
      "metadata": {
        "id": "mkzPGLEj8dQR",
        "colab_type": "code",
        "colab": {}
      },
      "source": [
        "#fit model\n",
        "my_clf = LogisticRegression().fit(x1_train,y_train)\n",
        "#predict probabilities\n",
        "my_predictions = my_clf.predict_proba(x1_test)[:,1]"
      ],
      "execution_count": null,
      "outputs": []
    }
  ]
}